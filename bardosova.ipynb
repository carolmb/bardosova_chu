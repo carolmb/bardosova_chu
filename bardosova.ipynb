{
 "cells": [
  {
   "cell_type": "code",
   "execution_count": 5,
   "metadata": {},
   "outputs": [
    {
     "name": "stdout",
     "output_type": "stream",
     "text": [
      "Collecting gensim\n",
      "  Downloading gensim-4.1.2-cp38-cp38-manylinux_2_12_x86_64.manylinux2010_x86_64.whl (24.1 MB)\n",
      "\u001b[K     |████████████████████████████████| 24.1 MB 6.0 MB/s eta 0:00:01     |██████████████▊                 | 11.1 MB 6.0 MB/s eta 0:00:03\n",
      "\u001b[?25hRequirement already satisfied: numpy>=1.17.0 in /home/acmbrito/miniconda3/lib/python3.8/site-packages (from gensim) (1.19.4)\n",
      "Requirement already satisfied: scipy>=0.18.1 in /home/acmbrito/miniconda3/lib/python3.8/site-packages (from gensim) (1.6.0)\n",
      "Collecting smart-open>=1.8.1\n",
      "  Downloading smart_open-5.2.1-py3-none-any.whl (58 kB)\n",
      "\u001b[K     |████████████████████████████████| 58 kB 9.5 MB/s  eta 0:00:01\n",
      "\u001b[?25hInstalling collected packages: smart-open, gensim\n",
      "Successfully installed gensim-4.1.2 smart-open-5.2.1\n",
      "Requirement already satisfied: ujson in /home/acmbrito/miniconda3/lib/python3.8/site-packages (4.2.0)\n",
      "Requirement already satisfied: xnetwork in /home/acmbrito/miniconda3/lib/python3.8/site-packages (0.9)\n",
      "Collecting infomap\n",
      "  Downloading infomap-1.6.0.tar.gz (276 kB)\n",
      "\u001b[K     |████████████████████████████████| 276 kB 6.7 MB/s eta 0:00:01\n",
      "\u001b[?25hBuilding wheels for collected packages: infomap\n",
      "  Building wheel for infomap (setup.py) ... \u001b[?25ldone\n",
      "\u001b[?25h  Created wheel for infomap: filename=infomap-1.6.0-cp38-cp38-linux_x86_64.whl size=9231509 sha256=d9c51c1559cdce114f0eff2b6207efe5935eceb5c57ed6b2766171ed33c489db\n",
      "  Stored in directory: /home/acmbrito/.cache/pip/wheels/9d/63/aa/08d80142a48290b52b8d4a4aed4d60a870a908a7058983cb3c\n",
      "Successfully built infomap\n",
      "Installing collected packages: infomap\n",
      "Successfully installed infomap-1.6.0\n"
     ]
    }
   ],
   "source": [
    "!pip install gensim\n",
    "!pip install ujson\n",
    "!pip install xnetwork\n",
    "!pip install infomap"
   ]
  },
  {
   "cell_type": "code",
   "execution_count": 12,
   "metadata": {},
   "outputs": [
    {
     "name": "stdout",
     "output_type": "stream",
     "text": [
      "Requirement already satisfied: nltk in /home/acmbrito/miniconda3/lib/python3.8/site-packages (3.6.3)\n",
      "Requirement already satisfied: joblib in /home/acmbrito/miniconda3/lib/python3.8/site-packages (from nltk) (1.0.1)\n",
      "Requirement already satisfied: tqdm in /home/acmbrito/miniconda3/lib/python3.8/site-packages (from nltk) (4.46.0)\n",
      "Requirement already satisfied: regex in /home/acmbrito/miniconda3/lib/python3.8/site-packages (from nltk) (2021.8.28)\n",
      "Requirement already satisfied: click in /home/acmbrito/miniconda3/lib/python3.8/site-packages (from nltk) (7.1.2)\n",
      "Collecting Cython\n",
      "  Downloading Cython-0.29.24-cp38-cp38-manylinux1_x86_64.whl (1.9 MB)\n",
      "\u001b[K     |████████████████████████████████| 1.9 MB 6.5 MB/s eta 0:00:01\n",
      "\u001b[?25hInstalling collected packages: Cython\n",
      "Successfully installed Cython-0.29.24\n"
     ]
    }
   ],
   "source": [
    "!pip install nltk\n",
    "!pip install Cython"
   ]
  },
  {
   "cell_type": "code",
   "execution_count": 1,
   "metadata": {},
   "outputs": [],
   "source": [
    "from tqdm.auto import tqdm\n",
    "import os\n",
    "from os.path import join as PJ\n",
    "# import bgzf\n",
    "import struct\n",
    "import os\n",
    "import numpy as np\n",
    "import operator\n",
    "import gensim\n",
    "import ujson\n",
    "import igraph as ig"
   ]
  },
  {
   "cell_type": "code",
   "execution_count": 2,
   "metadata": {},
   "outputs": [],
   "source": [
    "import glob\n",
    "import xnetwork as xn\n",
    "import numpy as np\n",
    "from tqdm.auto import tqdm\n",
    "\n",
    "from os.path import join as PJ\n",
    "\n",
    "# from igraph import *\n",
    "# from mpmath import mp # pip install mpmath\n",
    "# from scipy import integrate\n",
    "# mp.dps = 50\n",
    "\n",
    "import matplotlib.pyplot as plt "
   ]
  },
  {
   "cell_type": "code",
   "execution_count": 4,
   "metadata": {},
   "outputs": [],
   "source": [
    "# couplingNetwork.vs[\"Year\"] = CI2Year Talvez\n",
    "couplingNetwork = xn.xnet2igraph('data/coref_net.xnet')"
   ]
  },
  {
   "cell_type": "code",
   "execution_count": 5,
   "metadata": {},
   "outputs": [],
   "source": [
    "from infomap import Infomap\n",
    "def infomapMembership(vertexCount,edges):\n",
    "\tim = Infomap(\"-N 10 --silent --seed %d\"%np.random.randint(4294967296));\n",
    "\tim.setVerbosity(0);\n",
    "\tfor nodeIndex in range(0,vertexCount):\n",
    "\t\tim.add_node(nodeIndex)\n",
    "\tfor edge in edges:\n",
    "\t\tim.add_link(edge[0], edge[1]);\n",
    "\tim.run()\n",
    "\tmembership = [0]*vertexCount;\n",
    "\t# print(\"Result\")\n",
    "\t# print(\"\\n#node module\")\n",
    "\tfor node in im.tree:\n",
    "\t\tif node.is_leaf:\n",
    "\t\t\t# print((node.physicalId,node.moduleIndex()));\n",
    "\t\t\tmembership[node.node_id] = node.module_id;\n",
    "\treturn membership;"
   ]
  },
  {
   "cell_type": "code",
   "execution_count": 6,
   "metadata": {},
   "outputs": [
    {
     "name": "stdout",
     "output_type": "stream",
     "text": [
      "Loading manual dictionary an ignore list.\n",
      "Setting up nltk environment.\n"
     ]
    },
    {
     "name": "stderr",
     "output_type": "stream",
     "text": [
      "[nltk_data] Downloading package averaged_perceptron_tagger to\n",
      "[nltk_data]     /home/acmbrito/nltk_data...\n",
      "[nltk_data]   Package averaged_perceptron_tagger is already up-to-\n",
      "[nltk_data]       date!\n",
      "[nltk_data] Downloading package wordnet to /home/acmbrito/nltk_data...\n",
      "[nltk_data]   Package wordnet is already up-to-date!\n"
     ]
    }
   ],
   "source": [
    "from nltk.corpus import stopwords;\n",
    "from nltk.stem.wordnet import WordNetLemmatizer;\n",
    "import nltk.data;\n",
    "from nltk.tokenize import word_tokenize, wordpunct_tokenize, sent_tokenize;\n",
    "from nltk.corpus import wordnet;\n",
    "import re\n",
    "import nltk\n",
    "nltk.download('averaged_perceptron_tagger')\n",
    "nltk.download('wordnet')\n",
    "\n",
    "verboseMode = True;\n",
    "\n",
    "# Loading manual dictionary an ignore list\n",
    "if(verboseMode): print(\"Loading manual dictionary an ignore list.\");\n",
    "replaceDictionary = {};\n",
    "# with open(\"replaceDictionary.dat\",\"r\") as fp:\n",
    "# \tfor line in fp:\n",
    "# \t\tentry = line.strip().split(\"\\t\");\n",
    "# \t\tif(len(entry)>1):\n",
    "# \t\t\treplaceDictionary[entry[0]] = entry[1];\n",
    "\n",
    "# ignoreSet = set();\n",
    "# with open(\"ignoreSet.dat\",\"r\") as fp:\n",
    "# \tfor line in fp:\n",
    "# \t\tignoreSet.add(line.strip());\n",
    "\n",
    "\n",
    "#Setting up nltk environment\n",
    "if(verboseMode): print(\"Setting up nltk environment.\");"
   ]
  },
  {
   "cell_type": "code",
   "execution_count": 7,
   "metadata": {},
   "outputs": [],
   "source": [
    "%load_ext Cython"
   ]
  },
  {
   "cell_type": "code",
   "execution_count": 14,
   "metadata": {},
   "outputs": [
    {
     "name": "stderr",
     "output_type": "stream",
     "text": [
      "[nltk_data] Downloading package stopwords to\n",
      "[nltk_data]     /home/acmbrito/nltk_data...\n",
      "[nltk_data]   Unzipping corpora/stopwords.zip.\n"
     ]
    },
    {
     "data": {
      "text/plain": [
       "True"
      ]
     },
     "execution_count": 14,
     "metadata": {},
     "output_type": "execute_result"
    }
   ],
   "source": [
    "nltk.download('stopwords')"
   ]
  },
  {
   "cell_type": "code",
   "execution_count": 20,
   "metadata": {},
   "outputs": [
    {
     "name": "stderr",
     "output_type": "stream",
     "text": [
      "[nltk_data] Downloading package punkt to /home/acmbrito/nltk_data...\n",
      "[nltk_data]   Unzipping tokenizers/punkt.zip.\n"
     ]
    },
    {
     "data": {
      "text/plain": [
       "True"
      ]
     },
     "execution_count": 20,
     "metadata": {},
     "output_type": "execute_result"
    }
   ],
   "source": [
    "nltk.download('punkt')"
   ]
  },
  {
   "cell_type": "code",
   "execution_count": 8,
   "metadata": {},
   "outputs": [
    {
     "name": "stdout",
     "output_type": "stream",
     "text": [
      "Loading manual dictionary an ignore list.\n",
      "Setting up nltk environment.\n",
      "Setting up tokenizer.\n"
     ]
    }
   ],
   "source": [
    "%%cython\n",
    "from nltk.corpus import stopwords;\n",
    "from nltk.stem.wordnet import WordNetLemmatizer;\n",
    "import nltk.data;\n",
    "from nltk.tokenize import word_tokenize, wordpunct_tokenize, sent_tokenize;\n",
    "from nltk.corpus import wordnet;\n",
    "import re\n",
    "import nltk\n",
    "\n",
    "lmtzr = WordNetLemmatizer();\n",
    "sent_tokenizer=nltk.data.load('tokenizers/punkt/english.pickle')\n",
    "punctuation = re.compile(r'[(\\])(\\})(\\{)(\\[).?!,\":;()|]');\n",
    "stopSet = set(stopwords.words('english'));\n",
    "\n",
    "\n",
    "verboseMode = True;\n",
    "\n",
    "# Loading manual dictionary an ignore list\n",
    "if(verboseMode): print(\"Loading manual dictionary an ignore list.\");\n",
    "replaceDictionary = {};\n",
    "with open(\"replaceDictionary.txt\",\"r\") as fp:\n",
    "\tfor line in fp:\n",
    "\t\tentry = line.strip().split(\"\\t\");\n",
    "\t\tif(len(entry)>1):\n",
    "\t\t\treplaceDictionary[entry[0]] = entry[1];\n",
    "\n",
    "ignoreSet = set();\n",
    "with open(\"ignoreSet.txt\",\"r\") as fp:\n",
    "\tfor line in fp:\n",
    "\t\tignoreSet.add(line.strip());\n",
    "\n",
    "\n",
    "#Setting up nltk environment\n",
    "if(verboseMode): print(\"Setting up nltk environment.\");\n",
    "\n",
    "\n",
    "def findWholeWord(w):\n",
    "\treturn re.compile(r'\\b({0})\\b'.format(w), flags=re.IGNORECASE).search\n",
    "\n",
    "def get_wordnet_pos(treebank_tag):\n",
    "\tif treebank_tag.startswith('J'):\n",
    "\t\treturn wordnet.ADJ\n",
    "\telif treebank_tag.startswith('V'):\n",
    "\t\treturn wordnet.VERB\n",
    "\telif treebank_tag.startswith('N'):\n",
    "\t\treturn wordnet.NOUN\n",
    "\telif treebank_tag.startswith('R'):\n",
    "\t\treturn wordnet.ADV\n",
    "\telse:\n",
    "\t\treturn ''\n",
    "\n",
    "#Setting up tokenizer\n",
    "if(verboseMode): print(\"Setting up tokenizer.\");\n",
    "\n",
    "tokenizerInput = {\n",
    "\t\"stopSet\":stopSet,\n",
    "\t\"punctuation\":punctuation,\n",
    "\t\"tokenizer\":sent_tokenizer,\n",
    "\t\"lematizer\":lmtzr,\n",
    "\t\"sent_tokenize\": sent_tokenize,\n",
    "\t\"replaceDictionary\": replaceDictionary,\n",
    "\t\"ignoreSet\":ignoreSet\n",
    "}\n",
    "\n",
    "def tokenizeString(theString,maximumTokenSize,tokenizerInput,removeStopWords=True):\n",
    "\tstopSet = tokenizerInput[\"stopSet\"];\n",
    "\tlematizer = tokenizerInput[\"lematizer\"];\n",
    "\ttokenizer = tokenizerInput[\"tokenizer\"];\n",
    "\tpunctuation = tokenizerInput[\"punctuation\"];\n",
    "\tsent_tokenize = tokenizerInput[\"sent_tokenize\"];\n",
    "\treplaceDictionary = tokenizerInput[\"replaceDictionary\"];\n",
    "\tignoreSet = tokenizerInput[\"ignoreSet\"];\n",
    "\twordsList = [];\n",
    "\ttitleAbstract = (\". \".join(theString.split(\"::\"))).strip();\n",
    "\twordsSentences = [ word_tokenize(t) for t in sent_tokenize(titleAbstract)];\n",
    "\tstopSentence = False;\n",
    "\tfor si, words in enumerate(wordsSentences):\n",
    "\t\twordsTags = nltk.pos_tag(words);\n",
    "\t\tif(stopSentence):\n",
    "\t\t\tbreak;\n",
    "\t\tfor wi,wordTag in enumerate(wordsTags):\n",
    "\t\t\tword = wordTag[0];\n",
    "\t\t\ttag = wordTag[1];\n",
    "# \t\t\tif(si>len(wordsSentences)-4 and (word.lower()==\"copyright\" or (wi>0 and word.lower()==\"c\" and words[wi-1] == \"(\"  and words[wi+1] == \")\" ))):\n",
    "# \t\t\t\tstopSentence = True;\n",
    "# \t\t\t\tbreak;\n",
    "\t\t\tword = punctuation.sub(\"\", word);\n",
    "\t\t\tconvTag = get_wordnet_pos(tag);\n",
    "\t\t\t#print \"w: \"+word;\n",
    "\t\t\tif(convTag!=''):\n",
    "\t\t\t\tword  = lematizer.lemmatize(word.lower(),convTag);\n",
    "\t\t\telse:\n",
    "\t\t\t\tword  = lematizer.lemmatize(word.lower());\n",
    "\t\t\tif(len(word)==0 or ((word in stopSet) and removeStopWords) or (word in ignoreSet)):\n",
    "\t\t\t\tcontinue;\n",
    "\t\t\telse:\n",
    "\t\t\t\tif(word in replaceDictionary):\n",
    "\t\t\t\t\twordsList.append(replaceDictionary[word]);\n",
    "\t\t\t\telse:\n",
    "\t\t\t\t\twordsList.append(word);\n",
    "\n",
    "\ttokens = [set() for i in range(maximumTokenSize)];\n",
    "\tfor wordIndex in range(len(wordsList)):\n",
    "\t\tfor tokenSize in range(0,min(wordIndex+1,maximumTokenSize)):\n",
    "\t\t\ttokens[tokenSize].add(\" \".join(wordsList[(wordIndex-tokenSize):(wordIndex+1)]));\n",
    "\treturn tokens;"
   ]
  },
  {
   "cell_type": "code",
   "execution_count": 9,
   "metadata": {},
   "outputs": [],
   "source": [
    "selectedJournal = 'coref_chu'\n",
    "networksPath = ''"
   ]
  },
  {
   "cell_type": "code",
   "execution_count": 10,
   "metadata": {},
   "outputs": [
    {
     "name": "stdout",
     "output_type": "stream",
     "text": [
      "Obtaining the major connected component.\n",
      "Tokenizing the abstracts.\n",
      "Done                   92             \n",
      "Obtaining the network community structure.\n",
      "Getting tokens frequency.\n",
      "Calculating the importance Index.\n",
      "A - plasmonic, optical, resonance, nanoparticle, gold nanoparticles, nm, au, surface plasmon, particle, silver\n",
      "B - device, two-dimensional, material, graphene oxide, sheet, electronic, application, 2d, property, mos2\n",
      "C - cell, nanoparticles, cancer, delivery, drug, tumor, vivo, therapy, therapeutic, release\n",
      "D - surfactant, micelle, concentration, solution, phase, aqueous, micellar, sodium, water, increase\n",
      "E - surface, monolayer, spectroscopy, sam, gold, self-assembled monolayers, substrate, group, photoelectron, molecule\n",
      "F - battery, capacity, cycle, electrochemical, performance, anode, lithium, g -1, high, electrode\n",
      "G - organic, device, efficiency, polymer, film, solar cell, %, performance, power, poly\n",
      "H - particle, colloidal, droplet, silica, emulsion, size, liquid, oil, suspension, phase\n",
      "I - adsorption, surface area, material, mesoporous silica, pore size, isotherm, porous, nitrogen, synthesis, template\n",
      "J - nanowires, nanowire, growth, device, grow, semiconductor, si, zno, silicon, nw\n",
      "K - density functional, functional theory, electronic, energy, first-principles, atom, structure, theory calculation, material, band\n",
      "L - surface, atomic force, interaction, force microscopy, measure, afm, adhesion, model, contact, measurement\n",
      "M - contact angle, water, droplet, liquid, wet, wettability, hydrophobic, superhydrophobic surface, coating, degree\n",
      "N - quantum dot, nanocrystals, colloidal, emission, cdse, dot qds, photoluminescence, semiconductor, qd, optical\n",
      "O - tio2, efficiency, photocatalytic, solar cell, light, electron, dye-sensitized, activity, conversion, %\n",
      "P - carbon nanotube, single-walled carbon, cnt, swnt, nanotube swnts, nanotube cnts, multiwalled, electrical, semiconducting, diameter\n",
      "Q - lipid, membrane, monolayers, monolayer, bilayer, bilayers, interface, vesicle, phospholipid, phase\n",
      "R - catalyst, reaction, activity, oxygen, catalytic, reduction, performance, fuel cell, evolution, active\n",
      "S - metal-organic framework, mof, adsorption, material, gas, framework mofs, metal, selectivity, organic framework, porous\n",
      "T - cell, tissue, scaffold, vitro, adhesion, culture, engineering, hydrogel, matrix, mechanical\n",
      "U - magnetic, field, spin, device, ferroelectric, ferromagnetic, temperature, magnetization, domain, film\n",
      "W - molecular dynamic, dynamic simulation, water, interaction, molecule, experimental, model, md simulation, study, dynamic md\n",
      "V - polyelectrolyte, film, poly, multilayer, assembly, layer, multilayers, layer-by-layer lbl, charge, thickness\n",
      "X - sensor, device, flexible, application, mechanical, wearable, strain, electronics, human, fabricate\n",
      "Y - surface, bacteria, coating, bacterial, adhesion, poly, antibacterial, polymer, protein, activity\n",
      "Z - gel, form, self-assembly, supramolecular, peptide, formation, assembly, structure, molecular, gelation\n",
      "{26} - solar cell, device, perovskite solar, %, halide, conversion efficiency, power conversion, perovskites, film, stability\n",
      "{27} - polymer, polymerization, temperature, solution, chain, poly n-isopropylacrylamide, brush, copolymer, radical, change\n",
      "{28} - electrode, electrochemical, energy, density, specific capacitance, cycle, supercapacitors, carbon, performance, -1\n",
      "{29} - nanostructures, strand, dna origami, design, assembly, molecular, target, nanotechnology, complex, molecule\n",
      "{30} - block copolymer, self-assembly, pattern, thin film, morphology, polymer, poly, diblock copolymer, domain, template\n",
      "{31} - polymer, material, mechanical, light, shape memory, reversible, azobenzene, self-healing, liquid crystal, temperature\n",
      "{32} - strength, material, mechanical property, %, composite, cellulose nanocrystals, modulus, polymer, thermal, application\n",
      "{33} - molecular, molecule, junction, conductance, single, transport, scan tunnel, single-molecule, electronic, electrode\n",
      "{34} - nanopore, nanopores, current, pore, dna, membrane, ionic, ion, single, transport\n",
      "{35} - clay, interlayer, double hydroxide, layered, intercalate, intercalation, layer, x-ray diffraction, ldh, thermal\n",
      "{36} - 111, adsorption, surface, coverage, pt, adsorbed, co, desorption, adsorb, specie\n",
      "{37} - phase, smectic, compound, liquid crystal, mesophase, nematic, mesophases, series, chiral, temperature\n",
      "{38} - quartz crystal, crystal microbalance, surface, adsorption, qcm-d, microbalance dissipation, film, qcm, measurement, mass\n",
      "{39} - scan tunnel, tunnel microscopy, molecule, molecular, surface, microscopy stm, graphite, 111, structure, form\n",
      "{40} - spin, single, quantum dot, diamond, demonstrate, magnetic, center, device, quantum information, photon\n",
      "{41} - specie, spectroscopy, adsorption, temperature, surface, sample, infrared, site, k, catalyst\n",
      "{42} - micelle, poly, vesicle, block copolymer, solution, self-assembly, ethylene, amphiphilic, polymer, form\n",
      "{43} - interface, adsorption, interfacial, concentration, surfactant, surface tension, protein, dynamic, data, model\n",
      "{44} - thermoelectric, thermal conductivity, k, zt, temperature, material, electrical, power factor, seebeck coefficient, carrier\n",
      "{45} - memory, device, switch, resistive switching, voltage, nonvolatile, current, resistance, state, neuromorphic\n",
      "{46} - 2, salt, =, k, crystal structure, radical, anion, compound, molecule, cation\n",
      "{47} - calcium, crystal, growth, carbonate, calcite, solution, crystallization, acid, formation, process\n",
      "{48} - electrospinning, fiber, nanofibers, electrospun, nanofiber, fabricate, polymer, diameter, mat, application\n",
      "{49} - motion, propulsion, field, move, magnetic, particle, speed, micromotors, motor, application\n",
      "{50} - 2, diffraction, powder, structure, x-ray, =, angstrom, compound, c, space\n",
      "{51} - ph, adsorption, surface, solution, model, ion, oxide, complex, data, concentration\n",
      "{52} - protein, adsorption, surface, adsorbed, adsorb, study, interaction, serum albumin, concentration, molecule\n",
      "{53} - response, sensing, sense, ppm, degree c, gas sensor, temperature, selectivity, sensitivity, detection\n",
      "{54} - water, membrane, %, desalination, performance, high, separation, h, flux, -1\n",
      "{55} - atomic layer, layer deposition, deposition ald, growth, degree c, deposit, thin film, precursor, temperature, grow\n",
      "{56} - oxide, mobility, cm 2, film, thin-film transistor, v, transistor tfts, device, voltage, performance\n",
      "{57} - particle, charge, electrophoretic mobility, potential, double layer, concentration, electric, suspension, electrokinetic, electrophoresis\n",
      "{58} - topological insulator, quantum, surface state, magnetic, dirac, field, transport, bulk, ti, bi2se3\n",
      "{59} - fluorescence, aggregation-induced emission, fluorescent, emission aie, detection, exhibit, derivative, imaging, state, probe\n",
      "{60} - fluorescence, carbon dot, emission, fluorescent, detection, dot cd, application, quantum yield, quantum dot, nm\n",
      "{61} - deformation, mechanical property, material, strength, dislocation, nanoindentation, modulus, plastic, grain, ductility\n",
      "{62} - db, electromagnetic, ghz, absorption, loss, thickness, composite, reflection, mm, performance\n",
      "{63} - polymerization, aniline, conductivity, polymer, particle, aqueous, spectroscopy, polyaniline pani, prepare, polypyrrole\n",
      "{64} - photochromic, optical, irradiation, uv, light, two-photon absorption, fluorescence, reversible, group, compound\n",
      "{65} - nonlinear optical, chromophore, second-order, nlo, second harmonic, synthesize, beta, generation shg, harmonic generation, second-harmonic\n",
      "{66} - electrochemical, electrode, surface, carbon, reduction, cyclic voltammetry, graft, diazonium salt, x-ray photoelectron, group\n",
      "{67} - alumina, pore, anodic, porous, diameter, aluminum, template, oxide, anodization, membrane\n",
      "{68} - sum frequency, frequency generation, interface, generation sfg, interfacial, vibrational spectroscopy, surface, group, orientation, sfg vibrat...\n",
      "{69} - polymer, film, glass transition, bulk, poly, transition temperature, dynamic, molecular, amorphous, relaxation\n",
      "{70} - superconducting, k, superconductivity, phase, temperature, superconductors, oxygen, x, diffraction, magnetic\n",
      "{71} - dielectric, polymer, high, %, vinylidene, matrix, density, capacitor, composite, breakdown\n",
      "{72} - resonator, frequency, mechanical, nanomechanical, resonance, sensitivity, mass, demonstrate, system, mode\n",
      "{73} - dendrimer, generation, group, poly amidoamine, core, pamam dendrimers, dendritic, molecular, molecule, amine\n",
      "{74} - solar cell, efficiency, film, cu, absorber, device, %, layer, se, ga\n",
      "{75} - nmr, precursor, ceramic, degree c, amorphous, pyrolysis, thermal, temperature, composition, sic\n",
      "{76} - liquid crystal, lc, phase, anchor, orientation, nematic liquid, transition, lcs, homeotropic, 5cb\n",
      "{77} - precursor, oxide, temperature, prepare, 2, obtain, sol-gel, x-ray diffraction, nmr, 4\n",
      "{78} - study, cell, size, analysis, microscopy, use, time, control, mu, drug\n",
      "{79} - polymer, dispersion, latex film, film formation, dry, latex particle, drying, surfactant, temperature, distribution\n",
      "{80} - blue, color, diacetylene, red, colorimetric, uv, acid, polydiacetylene pda, change, transition\n",
      "{81} - polyoxometalates, x-ray, pom, polyoxometalate, microscopy, spectroscopy, anion, electron, solution, aqueous\n",
      "{82} - diffraction, structure, x-ray, =, powder, phase, temperature, oxide, c, angstrom\n",
      "{83} - microtubule, kinesin, transport, motor protein, molecular, motility, filament, system, track, glide\n",
      "{84} - molecularly imprint, template, imprinting, imprint polymer, recognition, selectivity, imprinted, monomer, binding, bind\n",
      "{85} - viologen, electrode, electrochemical, nucleation, kinetics, two, mercury, phase, electrochromic, radical\n",
      "{86} - thiol-ene, group, click chemistry, '', cycloaddition, `` click, polymer, glycol, click reaction, azide\n",
      "{87} - temperature, surface, water, k, desorption, photoelectron spectroscopy, h2o, adsorption, x-ray, ice\n",
      "{88} - powder, diffraction, x-ray, reaction, nitride, 2, precursor, temperature, deposition, vapour\n",
      "{89} - fractal dimension, particle, cluster, aggregate, primary, growth, size, scatter, flame, agglomerate\n",
      "{90} - protein, enzyme, activity, adsorption, %, immobilization, concentration, system, aqueous, immobilize\n",
      "{91} - particle, electric field, electrorheological er, suspension, dielectric, yield stress, effect, er fluid, shear, oil\n",
      "{92} - nanoscience education, nano focus, large population, united state, nanoscience nanotechnology, single-cell, neuron, brain, initiate, circuit\n",
      "{93} - tumor cell, capture, cell ctc, circulate tumor, blood, detection, antibody, cancer cell, isolation, efficiency\n",
      "{94} - electron beam, precursor, beam induce, nanostructures, deposit, induce deposition, focused, resolution, deposition ebid, electron-beam-induced\n",
      "{95} - precursor, 2, chemical vapour, vapour deposition, mocvd, compound, 3, degree c, n, decomposition\n",
      "{96} - adsorption, inverse gas, gas chromatography, determine, interaction, surface, energy, igc, xps, value\n",
      "{97} - powder, prepare, luminescence, 2, temperature, emission, ion, phase, particle size, product\n",
      "{98} - detection, limit, sample, assay, immunoassay, platform, application, enable, test, point-of-care\n",
      "{99} - protein, activity, photosystem psi, electron, present, 2, nanoflowers, phosphate, enzyme, complex\n",
      "{100} - nmr, al-27, phase, powder, composition, degree c, x-ray, spectrum, diffraction, al\n",
      "{101} - temperature, mossbauer, magnetic, k, diffraction, perovskite, order, antiferromagnetic, site, powder\n",
      "{102} - nanotechnology, research, public, risk, science, europe, survey, issue, positive, information\n",
      "{103} - fuel cell, current, microbial fuel, extracellular electron, electron transfer, density, carbon, biofilm, power, eet\n",
      "{104} - aluminum, energetic, ignition, reaction, temperature, combustion, al, reactive, oxidizer, heat\n",
      "{105} - pressure, gpa, carbon, phase, temperature, raman, k, deposit, x-ray, experiment\n",
      "{106} - heat transfer, thermal, radiative heat, near-field, exceed, gap, blackbody, far-field, enhancement, object\n",
      "{107} - model, iron, removal, adsorption, study, amorphous, carbon, range, oxidation, desorption\n",
      "{108} - ultrasound, amorphous, method, tem, powder, transmission electron, particle size, solution, product, x-ray\n",
      "{109} - ion exchange, mica, selective, cation, 2, nuclear, composition, na-4-mica, temperature, investigate\n",
      "{110} - monte carlo, site, carlo simulation, model, heterogeneous surface, adsorption, correlation, energy, diffusion, distribution\n",
      "{111} - thermal expansion, temperature, negative thermal, glass, material, contain, coefficient thermal, cure, resin, three\n",
      "{112} - structure, data, crystallize, pm, variable, behaviour, metallic, 2, prepare, component\n",
      "{113} - ionic liquid, friction, wear, il, additive, oil, lubrication, lubricant, surface, contact\n",
      "{114} - supersaturation, droplet, liquid, phase, vapor, classical nucleation, nucleation theory, supersaturated, heterogeneous nucleation, nucleus\n",
      "{115} - single crystal, ion, grow, emission, optical, beta-alumina, c, 2, analysis, x-ray\n",
      "{116} - polariton, quantum, cavity, state, semiconductor, exciton-polaritons, polaritons, photon, coupling, strong\n",
      "{117} - 2, temperature, magnetic, transition, =, spin crossover, thermal, ii, 3, cooperative\n",
      "{118} - film, electrolyte, electrodeposited, wo3, electrochromic, aqueous, superconducting, electrodeposition, solution, electrochemical\n",
      "{119} - detonation, energetic material, salt, thermal, compound, x-ray, density, calculate, impact, characterize\n",
      "{120} - x-ray, diffraction, several, length scale, method, strain, example, understanding, image, submicrometre\n",
      "{121} - quasicrystals, alloy, periodic, diffraction, quasicrystal, icosahedral, atomic structure, symmetry, crystal, represent\n",
      "{122} - adhesion, modified, modification, strength, x-ray, reaction, cohesive, polyimide, adhesive, polymer\n",
      "{123} - film, temperature, deposition, thin, xps, metal, ruthenium, gas, 2, x-ray diffraction\n",
      "{124} - rate constant, neutral, aqueous, interface, interfacial, phase, cationic, kinetics, step, surfactant\n",
      "{125} - aromatic, synthesis, polymer, poly ether, aryl, thermal, synthesize, friedel-crafts, diamine, imide\n",
      "{126} - oxygen, dye, response, use, polymer, luminescent, ii, temperature, emission, sensing\n",
      "{127} - study, pentoxide hydrate, vanadium pentoxide, h2o molecule, water molecule, motion, additional, ion, vapor, pure\n",
      "{128} - covid-19, coronavirus, pandemic, filtration efficiency, respiratory, vaccine, virus, disease, may, cause\n",
      "{129} - film, precursor, deposition, mocvd, c, degree, =, growth, barium, vapour\n",
      "{130} - oxide, electron, synthesis, in2o3, visible, nanoparticles, oxygen, temperature, tungsten bronze, shield\n",
      "{131} - simple, uranyl ion, chitosan, metal, x-ray, mass, aqueous solution, obtain, apply, electron microscopy\n",
      "{132} - microwave plasma, poly, react, reaction, specie, atr ft-ir, pdms, analysis, quantitative, utilize\n",
      "{133} - structure, electronic, discuss, asw method, chemical bonding, density state, local, atom, influence, crystal\n",
      "{134} - plasma treatment, result, cold atmospheric, plasma jet, atmospheric plasma, cancer, pressure, emission, study, effect\n",
      "{135} - bronze, qens measurement, scattering qens, quasielastic, variable-temperature, reorientation, spectra, neutron scattering, h2o, motion\n",
      "{136} - acid, particle, extractant cation, membrane elm, emulsion liquid, external water, internal water, w/o/w emulsion, liquid membrane, emulsion s...\n",
      "{137} - role, government regulator, policy, agency, health, nanotechnology, science, literature, new, challenge\n",
      "{138} - optical, cerium, ce, study, sample, scintillators, x-ray absorption, spectroscopy, dope, emission\n",
      "{139} - sulfide, temperature, oxygen, c, 10, reaction, copper, cu, product, ii\n",
      "{140} - water movement, equilibrium, pressure, system, surfactant, wet unsaturated, `` unsaturated, unsaturated '', air-water interfacial, movement w...\n",
      "{141} - pendant double, polybutadienes, double bond, polymer, reaction, backbone, obtain, give, =, contain\n",
      "{142} - ring-opening polymerisation, polymer, cyclic trimer, cyclic oligomers, spectroscopy mass, tetramer, macrocyclic, characterise, chromatography...\n",
      "{143} - resin, ii, complex, reaction, commercial epoxy, study, behaviour, find, sample, thermal\n",
      "{144} - copper ii, xps, x-ray photoelectron, substrate, four cu/sio2, acetate cu, cu ch3co2, h2o cu, cu ac, coat copper\n",
      "{145} - nm, powder, 5, =, 3, particle, phase, size, temperature, alpha-phase transformation\n",
      "{146} - temperature gradient, thermocapillary, generally, motion, field, force, effect, peclet reynolds, method reflection, laplace stokes\n",
      "{147} - cf2cf2cf3, perfluoroalkoxyvinyl, cf2cf3, lead unsaturated, bombardment study, bombardment cause, kev lead, cf2 cf2cf2, individually modificat...\n",
      "{148} - polymer, eta-cp co, 2cme2 1, pph3 2nicl2, eta-cp 2ni, cyclotrimerization, co co, co 2, thermally, monomer\n",
      "{149} - look side, research richard, role decision, consideration always, decision funding, jones look, approach science, commercial consideration, f...\n",
      "{150} - change material, phase change, value, %, heat storage, c20, material pcm, latent heat, paraffin, organic phase\n",
      "{151} - absorbance, composite, concentration, film, also, increase ammonia, increase humidity, optical spectrum, nm increase, 600 nm\n",
      "{152} - thin film, precursor, prepare, temperature, use sif2, graphite lpcvd, lpcvd use, contain polycrystalline, composition thin, silicide\n",
      "{153} - possible calculate, adsorption system, sorbent, applicability, dilute, experimental data, excess, equation, isotherm, basis\n",
      "{154} - gan, trimethylgallium, gallium nitride, chemical vapour, vapour deposition, sapphire, stoichiometric, face, laser, crystalline\n",
      "{155} - reduction, lead, electron, cathode isolate, dmp +, material diamagnetic, isolate examine, dmp pb-5, dimethylpyrrolidinium, demonstrate isolate\n",
      "{156} - pressure, sic, thermodynamic, hydrothermal, degree c, ratio, analysis, energy, present, observe\n",
      "{157} - nanothermodynamics surface, adsorbent molecule, small thermodynamic, adsorbed lattice, excess recast, example nanothermodynamics, one-dimensi...\n",
      "{158} - mcfc, solubility, electrode, oxide, x-ray, carbonate fuel, nio cathode, use nio, molten carbonate, alternative cathode\n",
      "{159} - \n",
      "{160} - deposit ice, structure freeze, 50 due, freeze potential-time, potential-time curve, strongly ethanol, freeze potential, due dendrite, oscilla...\n",
      "{161} - \n",
      "{162} - porous ceramic, yttria-stabilized zirconia, deposition, electrochemical vapour, gas-tight terbia-, dense gas-tight, tb -zro2, oxygen semiperm...\n",
      "{163} - \n",
      "{164} - caal, 600-1000degreesc, examine alkali, ml cap1, h fire, 25degreesc 60degreesc, dependence indicated, equal co, uptake various, kaolinite caco\n",
      "{165} - poor nanotechnology, nanotechnology certainly, broaden imagination, need world, discussion nanotechnology, poverty need, certainly make, make...\n",
      "{166} - \n",
      "{167} - \n",
      "{168} - \n",
      "{169} - deposit agree, aluminum disk, copper dendrites, protrude diffusion, dendrites protrude, agree change, resultant copper, cementation, specific...\n",
      "{170} - \n",
      "{171} - luminescence, solid, use, measurement sg, efficiency orthoborate, process wp, quality compound, sg basis, wp sol-gel, orthoborate ybo3\n",
      "{172} - \n",
      "{173} - \n",
      "{174} - smooth-bottomed, rod-pull method, curve family, practice require, padday 4, wet well, generally practice, describe padday, nonwetting sample,...\n",
      "{175} - chemical vapour, vapour deposition, suitable, particular, precursor, order, condition, use, sicl4-ch4-h2, halosilane\n",
      "{176} - glass melt, absorption, bio6, khantal, bpbg, xbi2o3-pbo-b2o3-, 52-x geo2, plate characterization, linear refractive-index, oxide measurement\n",
      "{177} - surface/interfaces, dimension-tunable, subnucleus, tmobfs, fe-s-related, subnuclei, ultrasteady, controllable inorganic, nanocrystals realize...\n",
      "{178} - \n",
      "Saving the network.\n"
     ]
    }
   ],
   "source": [
    "# Some util functions\n",
    "\n",
    "def makeSurePathExists(path):\n",
    "    try:\n",
    "        os.makedirs(path)\n",
    "    except OSError as exception:\n",
    "        if exception.errno != errno.EEXIST:\n",
    "            raise\n",
    "\n",
    "# Parameters\n",
    "jsonFileprefix = \"%s_Comm\"%selectedJournal;\n",
    "removeStopWords = True;\n",
    "maximumTokenSize = 2; #n-gram\n",
    "minKeywordsPerCluster = 10;\n",
    "maxKeywordsPerCluster = 10;\n",
    "maxClusterNameLength = 150;\n",
    "useMajorComponent = True;\n",
    "verboseMode = True;\n",
    "\n",
    "network = couplingNetwork\n",
    "# Obtaining the major connected component (if needed)\n",
    "if(useMajorComponent):\n",
    "    if(verboseMode): print(\"Obtaining the major connected component.\");\n",
    "    network = network.clusters(\"WEAK\").giant();\n",
    "\n",
    "# Tokenizing the abstracts\n",
    "if(verboseMode): print(\"Tokenizing the abstracts.\");\n",
    "tokensFrequency = [[] for i in range(maximumTokenSize)];\n",
    "tokensGroupFrequency = [{} for i in range(maximumTokenSize)];\n",
    "\n",
    "propertiesKeys = set();\n",
    "\n",
    "verticesTokens = [];\n",
    "for vertexIndex in range(network.vcount()):\n",
    "    if(vertexIndex%100==0):\n",
    "        print(\"Tokenizing: %d/%d             \"%(vertexIndex,network.vcount()),end=\"\\r\")\n",
    "        \n",
    "#         for wordsList in tokenList:\n",
    "#             tokens = [set() for i in range(maximumTokenSize)];\n",
    "#             for wordIndex in range(len(wordsList)):\n",
    "#                 for tokenSize in range(0,min(wordIndex+1,maximumTokenSize)):\n",
    "#                     tokens[tokenSize].add(\" \".join(wordsList[(wordIndex-tokenSize):(wordIndex+1)]));\n",
    "    verticesTokens.append(tokenizeString(network.vs[vertexIndex][\"abstract\"],maximumTokenSize,tokenizerInput));\n",
    "\n",
    "print(\"Done                   \");\n",
    "\n",
    "# Obtaining the network community structure\n",
    "if(verboseMode): print(\"Obtaining the network community structure.\");\n",
    "\n",
    "# cc = network.community_multilevel(weights=\"weight\");\n",
    "# communities = cc.membership;\n",
    "network.get_edgelist()\n",
    "edgelist = [(e.source,e.target) for e in network.es]\n",
    "communities = infomapMembership(network.vcount(),edgelist)\n",
    "\n",
    "# print(\"Modularity: %f\"%cc.q);\n",
    "\n",
    "clusters = [[] for i in range(max(communities)+1)];\n",
    "for vertexIndex in range(network.vcount()):\n",
    "    clusters[communities[vertexIndex]].append(vertexIndex);\n",
    "\n",
    "#sorting the clusters by size\n",
    "clusters = sorted(clusters,key=len,reverse=True);\n",
    "\n",
    "# Getting tokens frequency\n",
    "if(verboseMode): print(\"Getting tokens frequency.\");\n",
    "\n",
    "\n",
    "\n",
    "\n",
    "tokenFrequencyInClusters = [];\n",
    "tokenFrequencyInCorpus = {};\n",
    "\n",
    "for clusterIndex in range(len(clusters)):\n",
    "    cluster = clusters[clusterIndex];\n",
    "    tokenFrequencyInCluster = {};\n",
    "    for vertexIndex in cluster:\n",
    "        tokens = verticesTokens[vertexIndex];\n",
    "        for tokenSize in range(0,maximumTokenSize):\n",
    "            for token in tokens[tokenSize]:\n",
    "                if(token not in tokenFrequencyInCorpus):\n",
    "                    tokenFrequencyInCorpus[token] = 0;\n",
    "                if(token not in tokenFrequencyInCluster):\n",
    "                    tokenFrequencyInCluster[token] = 0;\n",
    "                tokenFrequencyInCorpus[token] += 1;\n",
    "                tokenFrequencyInCluster[token] += 1;\n",
    "    tokenFrequencyInClusters.append(tokenFrequencyInCluster);\n",
    "    \n",
    "# Calculating the importance Index\n",
    "if(verboseMode): print(\"Calculating the importance Index.\");\n",
    "#tokenRelativeFrequencyInClusters = [];\n",
    "#tokenRelativeFrequencyOutClusters = [];\n",
    "tokenImportanceIndexInClusters = [];\n",
    "\n",
    "verticesCount = network.vcount();\n",
    "for clusterIndex in range(len(clusters)):\n",
    "    clusterSize = len(clusters[clusterIndex]);\n",
    "    \n",
    "    tokenFrequencyInCluster = tokenFrequencyInClusters[clusterIndex];\n",
    "    \n",
    "    #tokenRelativeFrequencyInCluster = {};\n",
    "    #tokenRelativeFrequencyOutCluster = {};\n",
    "    tokenImportanceIndexInCluster = {};\n",
    "    \n",
    "    for token in tokenFrequencyInCluster:\n",
    "        nInCluster = tokenFrequencyInCluster[token];\n",
    "        nOutCluster = tokenFrequencyInCorpus[token]-nInCluster;\n",
    "        outClusterSize = verticesCount-clusterSize;\n",
    "        if(nOutCluster==0):\n",
    "            outClusterSize = 1; #Fix for singletons\n",
    "        FInCluster = float(nInCluster)/float(clusterSize);\n",
    "        FOutCluster = float(nOutCluster)/float(outClusterSize);\n",
    "        importanceIndex = FInCluster-FOutCluster;\n",
    "        #tokenRelativeFrequencyInCluster[token] = FInCluster;\n",
    "        #tokenRelativeFrequencyOutCluster[token] = FOutCluster;\n",
    "        tokenImportanceIndexInCluster[token] = importanceIndex;\n",
    "    \n",
    "    #tokenRelativeFrequencyInClusters.append(tokenRelativeFrequencyInCluster);\n",
    "    #tokenRelativeFrequencyOutClusters.append(tokenRelativeFrequencyOutCluster);\n",
    "    tokenImportanceIndexInClusters.append(tokenImportanceIndexInCluster);\n",
    "\n",
    "defaultNames = \"ABCDEFGHIJKLMNOPQRSTUWVXYZ\";\n",
    "defaultNamesLength = len(defaultNames);\n",
    "\n",
    "clusterKeywords = [];\n",
    "minClusterSize = min([len(cluster) for cluster in clusters]);\n",
    "maxClusterSize = max([len(cluster) for cluster in clusters]);\n",
    "clusterNames = [];\n",
    "for clusterIndex in range(len(clusters)):\n",
    "    cluster = clusters[clusterIndex];\n",
    "    clusterSize = len(cluster);\n",
    "    keywords = [v[0] for v in sorted(tokenImportanceIndexInClusters[clusterIndex].items(),key=operator.itemgetter(1),reverse=True)];\n",
    "    if(maxClusterSize>minClusterSize):\n",
    "        m = (maxKeywordsPerCluster-minKeywordsPerCluster)/float(maxClusterSize-minClusterSize);\n",
    "    else:\n",
    "        m=0;\n",
    "    keywordsCount = round(m*(clusterSize-minClusterSize)+minKeywordsPerCluster);\n",
    "    currentKeywords = [];\n",
    "    while(len(currentKeywords)<keywordsCount and len(keywords)>len(currentKeywords)):\n",
    "        currentKeywords = keywords[0:keywordsCount];\n",
    "        jointKeywords = \".\"+\".\".join(currentKeywords)+\".\";\n",
    "        toRemoveKeywords = [];\n",
    "        for keyword in currentKeywords:\n",
    "            if(jointKeywords.find(\" %s.\"%keyword)>=0):\n",
    "                toRemoveKeywords.append(keyword);\n",
    "            elif(jointKeywords.find(\".%s \"%keyword)>=0):\n",
    "                toRemoveKeywords.append(keyword);\n",
    "        for toRemoveKeyword in toRemoveKeywords:\n",
    "            keywords.remove(toRemoveKeyword);\n",
    "            currentKeywords.remove(toRemoveKeyword);\n",
    "    clusterKeywords.append(currentKeywords);\n",
    "    #print(currentKeywords);\n",
    "    clusterName = \"\";\n",
    "    if(clusterIndex<defaultNamesLength):\n",
    "        clusterName += defaultNames[clusterIndex];\n",
    "    else:\n",
    "        clusterName += \"{%d}\"%(clusterIndex);\n",
    "    clusterName += \" - \"+\", \".join(currentKeywords);\n",
    "    if(len(clusterName)>maxClusterNameLength):\n",
    "        clusterName = clusterName[0:maxClusterNameLength-1]+\"...\";\n",
    "    for vertexIndex in cluster:\n",
    "        network.vs[vertexIndex][\"Cluster Name\"] = clusterName;\n",
    "        network.vs[vertexIndex][\"Cluster Index\"] = clusterIndex;\n",
    "    clusterNames.append(clusterName);\n",
    "    print(clusterName);\n",
    "\n",
    "\n",
    "# Saving the network\n",
    "if(verboseMode): print(\"Saving the network.\");\n",
    "# network.vs[\"kcore\"] = network.coreness()\n",
    "\n",
    "xn.igraph2xnet(network,fileName=PJ(networksPath,\"%s.xnet\"%jsonFileprefix),ignoredNodeAtts=[\"Text\"]);"
   ]
  },
  {
   "cell_type": "code",
   "execution_count": 19,
   "metadata": {},
   "outputs": [
    {
     "data": {
      "text/plain": [
       "['name', 'journal', 'year', 'Cluster Name', 'Cluster Index']"
      ]
     },
     "execution_count": 19,
     "metadata": {},
     "output_type": "execute_result"
    }
   ],
   "source": [
    "network.vs.attributes()"
   ]
  },
  {
   "cell_type": "code",
   "execution_count": 16,
   "metadata": {},
   "outputs": [],
   "source": [
    "network.vs['Cluster Name'] = [c[:500] for c in network.vs['Cluster Name']]"
   ]
  },
  {
   "cell_type": "code",
   "execution_count": 13,
   "metadata": {},
   "outputs": [],
   "source": [
    "del network.vs['refs']"
   ]
  },
  {
   "cell_type": "code",
   "execution_count": 17,
   "metadata": {},
   "outputs": [],
   "source": [
    "xn.igraph2xnet(network,fileName=PJ(networksPath,\"%s_v2.xnet\"%jsonFileprefix),ignoredNodeAtts=[\"Text\"]);"
   ]
  },
  {
   "cell_type": "code",
   "execution_count": 18,
   "metadata": {},
   "outputs": [
    {
     "data": {
      "text/plain": [
       "52333760"
      ]
     },
     "execution_count": 18,
     "metadata": {},
     "output_type": "execute_result"
    }
   ],
   "source": [
    "network.ecount()"
   ]
  },
  {
   "cell_type": "code",
   "execution_count": 20,
   "metadata": {},
   "outputs": [
    {
     "data": {
      "text/plain": [
       "118292"
      ]
     },
     "execution_count": 20,
     "metadata": {},
     "output_type": "execute_result"
    }
   ],
   "source": [
    "network.vcount()"
   ]
  },
  {
   "cell_type": "code",
   "execution_count": 23,
   "metadata": {},
   "outputs": [],
   "source": [
    "network1 = network.simplify()"
   ]
  },
  {
   "cell_type": "code",
   "execution_count": 24,
   "metadata": {},
   "outputs": [
    {
     "data": {
      "text/plain": [
       "52333760"
      ]
     },
     "execution_count": 24,
     "metadata": {},
     "output_type": "execute_result"
    }
   ],
   "source": [
    "network1.ecount()"
   ]
  },
  {
   "cell_type": "code",
   "execution_count": null,
   "metadata": {},
   "outputs": [],
   "source": []
  }
 ],
 "metadata": {
  "kernelspec": {
   "display_name": "Python 3",
   "language": "python",
   "name": "python3"
  },
  "language_info": {
   "codemirror_mode": {
    "name": "ipython",
    "version": 3
   },
   "file_extension": ".py",
   "mimetype": "text/x-python",
   "name": "python",
   "nbconvert_exporter": "python",
   "pygments_lexer": "ipython3",
   "version": "3.8.3"
  }
 },
 "nbformat": 4,
 "nbformat_minor": 4
}
