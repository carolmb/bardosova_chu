{
 "cells": [
  {
   "cell_type": "code",
   "execution_count": 9,
   "metadata": {},
   "outputs": [],
   "source": [
    "import glob\n",
    "import igraph as ig\n",
    "import numpy as np\n",
    "import xnetwork as xn\n",
    "import matplotlib.pyplot as plt\n",
    "\n",
    "from matplotlib.ticker import MaxNLocator"
   ]
  },
  {
   "cell_type": "code",
   "execution_count": 42,
   "metadata": {},
   "outputs": [
    {
     "name": "stdout",
     "output_type": "stream",
     "text": [
      "['subset_chu/citation_net_acs appl. mater. interfaces_voting_schema_261022.xnet', 'subset_chu/citation_net_acs nano_voting_schema_261022.xnet', 'subset_chu/citation_net_adv. funct. mater._voting_schema_261022.xnet', 'subset_chu/citation_net_adv. mater._voting_schema_261022.xnet', 'subset_chu/citation_net_chem. mat._voting_schema_261022.xnet', 'subset_chu/citation_net_j. am. chem. soc._voting_schema_261022.xnet', 'subset_chu/citation_net_j. mat. chem. b_voting_schema_261022.xnet', 'subset_chu/citation_net_j. mater. chem. a_voting_schema_261022.xnet', 'subset_chu/citation_net_j. mater. chem. c_voting_schema_261022.xnet', 'subset_chu/citation_net_j. mater. chem._voting_schema_261022.xnet', 'subset_chu/citation_net_langmuir_voting_schema_261022.xnet', 'subset_chu/citation_net_macromolecules_voting_schema_261022.xnet', 'subset_chu/citation_net_nano lett._voting_schema_261022.xnet', 'subset_chu/citation_net_nat. mater._voting_schema_261022.xnet', 'subset_chu/citation_net_nat. nanotechnol._voting_schema_261022.xnet']\n"
     ]
    }
   ],
   "source": [
    "files = glob.glob('subset_chu/citation_net_*_voting_schema_261022.xnet')\n",
    "print(files) # verificar quais foram as redes enviadas paara o filipi"
   ]
  },
  {
   "cell_type": "code",
   "execution_count": 61,
   "metadata": {},
   "outputs": [],
   "source": [
    "# files = ['subset_chu/citation_net_j. am. chem. soc._voting_schema_261022.xnet']\n",
    "# files = ['subset_chu/citation_net_nat. mater._011122_voting_schema_bardo_infomap_01112022.xnet']"
   ]
  },
  {
   "cell_type": "code",
   "execution_count": 37,
   "metadata": {},
   "outputs": [],
   "source": [
    "\n",
    "# def voting_schema(label, years, net_ami, valid):\n",
    "#     net_ami.vs['cluster_name'] = net_ami.vs['Cluster Name']\n",
    "#     net_ami.vs['id_label'] = np.arange(net_ami.vcount())\n",
    "#     net_ami.to_undirected()\n",
    "#     net_ami = net_ami.components().giant()\n",
    "\n",
    "    \n",
    "#     for year in sorted(years):\n",
    "#         vertex_seq = net_ami.vs.select(year_eq=year)\n",
    "#         N = len(vertex_seq)\n",
    "#         subg  = net_ami.subgraph(vertex_seq)\n",
    "#         subg.to_undirected()\n",
    "#         subg = subg.components().giant()\n",
    "\n",
    "#         verteces = subg.vs.select(cluster_name_eq=label)\n",
    "#         new_labels = []\n",
    "        \n",
    "#         map_new_label = dict()\n",
    "#         for v in verteces:\n",
    "#             temp = []\n",
    "#             for n in v.neighbors():\n",
    "#                 if n['cluster_name'] in valid:\n",
    "#                     temp.append(n['cluster_name'])\n",
    "#             unique, count = np.unique(temp, return_counts=True)\n",
    "#             if len(count) > 0:\n",
    "#                 idx = np.argmax(count)\n",
    "#                 map_new_label[v['id_label']] = unique[idx]\n",
    "#             else:\n",
    "#                 map_new_label[v['id_label']]= 'unknown'\n",
    "        \n",
    "#         for k,v in map_new_label.items():\n",
    "#             net_ami.vs[k]['new_label'] = v\n",
    "        \n",
    "    \n",
    "# def get_neigh(net, v, valid):\n",
    "#     temp = []\n",
    "#     for n in v.neighbors():\n",
    "#         if n['cluster_name'] in valid:\n",
    "#             temp.append(n['cluster_name'])\n",
    "#     return temp"
   ]
  },
  {
   "cell_type": "code",
   "execution_count": 10,
   "metadata": {},
   "outputs": [],
   "source": [
    "def format_title_journal(name1):\n",
    "    print(name1)\n",
    "    name = name1.title()\n",
    "    name = name.replace('Mater', 'Mat')\n",
    "    name = name.replace('Acs', 'ACS')\n",
    "    name = name.replace('Appl. Mat. Interfaces', 'AMI')\n",
    "    return name"
   ]
  },
  {
   "cell_type": "code",
   "execution_count": 14,
   "metadata": {},
   "outputs": [
    {
     "name": "stdout",
     "output_type": "stream",
     "text": [
      "['nets180423/acs nano_completedata_170423_allbut_bardo_infomap_180423.xnet', 'nets180423/adv. mater._completedata_170423_allbut_bardo_infomap_180423.xnet', 'nets180423/chem. mat._completedata_170423_allbut_bardo_infomap_180423.xnet', 'nets180423/j. am. chem. soc._completedata_170423_allbut_bardo_infomap_180423.xnet', 'nets180423/j. mat. chem. b_completedata_170423_allbut_bardo_infomap_180423.xnet', 'nets180423/j. mater. chem. a_completedata_170423_allbut_bardo_infomap_180423.xnet', 'nets180423/j. mater. chem. c_completedata_170423_allbut_bardo_infomap_180423.xnet', 'nets180423/langmuir_completedata_170423_allbut_bardo_infomap_180423.xnet', 'nets180423/macromolecules_completedata_170423_allbut_bardo_infomap_180423.xnet', 'nets180423/nano lett._completedata_170423_allbut_bardo_infomap_180423.xnet', 'nets180423/nat. mater._completedata_170423_allbut_bardo_infomap_180423.xnet', 'nets180423/nat. nanotechnol._completedata_170423_allbut_bardo_infomap_180423.xnet']\n"
     ]
    }
   ],
   "source": [
    "from collections import defaultdict\n",
    "\n",
    "def get_k_most_close(net, v, valid):\n",
    "    temp = []\n",
    "    cutoff = 5\n",
    "    paths = net.get_all_simple_paths(v, to=None, cutoff=cutoff)\n",
    "    for n in paths:\n",
    "        idx = n[-1]\n",
    "        temp_label = net.vs[idx]['cluster_name']\n",
    "        if temp_label in valid:\n",
    "            temp.append(temp_label)\n",
    "        \n",
    "    return temp\n",
    "\n",
    "\n",
    "def voting_schema_all_years(label, years, net_ami, valid):\n",
    "    net_ami.vs['cluster_name'] = net_ami.vs['Cluster Name']\n",
    "    net_ami.vs['id_label'] = np.arange(net_ami.vcount())\n",
    "    new_labels = []\n",
    "\n",
    "    verteces = net_ami.vs.select(cluster_name_eq=label)\n",
    "    map_new_label = dict()\n",
    "    for v in verteces:\n",
    "        temp = get_k_most_close(net_ami, v, valid)        \n",
    "        unique, count = np.unique(temp, return_counts=True)\n",
    "        if len(count) > 0:\n",
    "            idx = np.argmax(count)\n",
    "            map_new_label[v['id_label']] = unique[idx]\n",
    "        else:\n",
    "            map_new_label[v['id_label']]= \"Others\"\n",
    "\n",
    "    for k,v in map_new_label.items():\n",
    "        net_ami.vs[k]['new_label'] = v\n",
    "        \n",
    "\n",
    "files = glob.glob('nets180423/*_infomap_*.xnet')\n",
    "print(files)\n",
    "\n",
    "for file in files:\n",
    "    net_ami = xn.xnet2igraph(file)\n",
    "\n",
    "    years = sorted(np.unique(net_ami.vs['year']))\n",
    "    comms_size = defaultdict(lambda:[])\n",
    "\n",
    "    \n",
    "    name_unique = set(net_ami.vs['Cluster Name'])\n",
    "\n",
    "    X = []\n",
    "    for year in sorted(years):\n",
    "        X.append(year)\n",
    "        vertex_seq = net_ami.vs.select(year_eq=year)\n",
    "        N = len(vertex_seq)\n",
    "        subg  = net_ami.subgraph(vertex_seq)\n",
    "        subg.to_undirected()\n",
    "        subg = subg.components().giant()\n",
    "\n",
    "        unique,count = np.unique(subg.vs['Cluster Name'], return_counts=True)\n",
    "        for u,c in zip(unique, count):\n",
    "            comms_size[u].append(100*c/N)\n",
    "\n",
    "        for missing in name_unique - set(unique):\n",
    "            comms_size[missing].append(0)\n",
    "\n",
    "    net_ami.vs['new_label'] =  net_ami.vs['Cluster Name']\n",
    "    comms_size_sorted = dict(sorted(comms_size.items(), key = lambda x: x[0]))\n",
    "    valid = []\n",
    "    count_l = 0\n",
    "    for label, hist in comms_size_sorted.items():\n",
    "        count_l += 1\n",
    "        if count_l > 9:\n",
    "            voting_schema_all_years(label, years, net_ami, valid)\n",
    "        else:\n",
    "            valid.append(label)\n",
    "    \n",
    "    net_ami.vs['cluster_top10'] = net_ami.vs['new_label']\n",
    "    del net_ami.vs['new_label']\n",
    "    xn.igraph2xnet(net_ami, file.replace('.xnet', '_voting_schema_top10.xnet'))\n"
   ]
  },
  {
   "cell_type": "code",
   "execution_count": 8,
   "metadata": {},
   "outputs": [
    {
     "name": "stdout",
     "output_type": "stream",
     "text": [
      "['name', 'Cluster Index', 'Cluster Name', 'title', 'wos_id', 'year']\n"
     ]
    },
    {
     "ename": "KeyError",
     "evalue": "'Attribute does not exist'",
     "output_type": "error",
     "traceback": [
      "\u001b[0;31m---------------------------------------------------------------------------\u001b[0m",
      "\u001b[0;31mKeyError\u001b[0m                                  Traceback (most recent call last)",
      "Input \u001b[0;32mIn [8]\u001b[0m, in \u001b[0;36m<cell line: 15>\u001b[0;34m()\u001b[0m\n\u001b[1;32m     21\u001b[0m years \u001b[38;5;241m=\u001b[39m \u001b[38;5;28mlist\u001b[39m(\u001b[38;5;28mrange\u001b[39m(\u001b[38;5;28mint\u001b[39m(\u001b[38;5;28mmin\u001b[39m(net_ami\u001b[38;5;241m.\u001b[39mvs[\u001b[38;5;124m'\u001b[39m\u001b[38;5;124myear\u001b[39m\u001b[38;5;124m'\u001b[39m])),\u001b[38;5;241m2021\u001b[39m))\n\u001b[1;32m     22\u001b[0m comms_size \u001b[38;5;241m=\u001b[39m defaultdict(\u001b[38;5;28;01mlambda\u001b[39;00m:[])\n\u001b[0;32m---> 23\u001b[0m net_ami\u001b[38;5;241m.\u001b[39mvs[\u001b[38;5;124m'\u001b[39m\u001b[38;5;124mcluster_top10\u001b[39m\u001b[38;5;124m'\u001b[39m] \u001b[38;5;241m=\u001b[39m \u001b[43mnet_ami\u001b[49m\u001b[38;5;241;43m.\u001b[39;49m\u001b[43mvs\u001b[49m\u001b[43m[\u001b[49m\u001b[38;5;124;43m'\u001b[39;49m\u001b[38;5;124;43mnew_label\u001b[39;49m\u001b[38;5;124;43m'\u001b[39;49m\u001b[43m]\u001b[49m\n\u001b[1;32m     24\u001b[0m name_unique \u001b[38;5;241m=\u001b[39m \u001b[38;5;28mset\u001b[39m(net_ami\u001b[38;5;241m.\u001b[39mvs[\u001b[38;5;124m'\u001b[39m\u001b[38;5;124mcluster_top10\u001b[39m\u001b[38;5;124m'\u001b[39m])\n\u001b[1;32m     25\u001b[0m X \u001b[38;5;241m=\u001b[39m []\n",
      "\u001b[0;31mKeyError\u001b[0m: 'Attribute does not exist'"
     ]
    }
   ],
   "source": [
    "#     net_ami.vs['new_label'] =  net_ami.vs['Cluster Name']\n",
    "   \n",
    "\n",
    "\n",
    "#     net_ami = xn.xnet2igraph(file.replace('_180122_bardo._top7', '_voting_schema'))\n",
    "#     print(net_ami.vs.attributes())\n",
    "    \n",
    "#     net_ami.vs['cluster_top10'] = net_ami.vs['new_label']\n",
    "#     attr_to_remove = [ 'cluster name top7', 'cluster_name', 'new_label']\n",
    "#     print(len(set(net_ami.vs['new_label'])))\n",
    "#     for attr in attr_to_remove:\n",
    "#         del net_ami.vs[attr]\n",
    "#     xn.igraph2xnet(net_ami, file.replace('_180122_bardo._top7', '_voting_schema_261022'))\n",
    "   \n",
    "for file in files:\n",
    "\n",
    "#     net_ami = xn.xnet2igraph(file.replace('_011122', '_011122_voting_schema'))\n",
    "    net_ami = xn.xnet2igraph(file)\n",
    "    print(net_ami.vs.attributes())\n",
    "#     years = sorted(np.unique(net_ami.vs['year']))\n",
    "    years = list(range(int(min(net_ami.vs['year'])),2021))\n",
    "    comms_size = defaultdict(lambda:[])\n",
    "    net_ami.vs['cluster_top10'] = net_ami.vs['new_label']\n",
    "    name_unique = set(net_ami.vs['cluster_top10'])\n",
    "    X = []\n",
    "    for year in sorted(years):\n",
    "        X.append(year)\n",
    "        vertex_seq = net_ami.vs.select(year_eq=year)\n",
    "        N = len(vertex_seq)\n",
    "        subg  = net_ami.subgraph(vertex_seq)\n",
    "\n",
    "        unique,count = np.unique(subg.vs['cluster_top10'], return_counts=True)\n",
    "        for u,c in zip(unique, count):\n",
    "            comms_size[u].append(100*c/N)\n",
    "\n",
    "        for missing in name_unique - set(unique):\n",
    "            comms_size[missing].append(0)\n",
    "            \n",
    "    fg = plt.figure(figsize=(12,5))\n",
    "    ax = fg.gca()\n",
    "    ax.xaxis.set_major_locator(MaxNLocator(integer=True))\n",
    "    labels = []\n",
    "    hists = []\n",
    "    others = []\n",
    "    comms_size_sorted = dict(sorted(comms_size.items(), key = lambda x: x[0]))\n",
    "    count_l = 0\n",
    "    relabel = []\n",
    "    for label, hist in comms_size_sorted.items():\n",
    "        labels.append(label[:60] + '\\n' + label[60:120] + '\\n' + label[120:])\n",
    "        hists.append(hist)\n",
    "\n",
    "    cmap = plt.get_cmap(\"tab10\")\n",
    "    outer_colors = cmap(np.arange(20))\n",
    "    \n",
    "    outer_colors = outer_colors.tolist()\n",
    "    outer_colors[9] = [0.8, 0.8, 0.8, 1]\n",
    "    plt.stackplot(X, *hists, labels=labels, colors=outer_colors)\n",
    "    plt.legend(prop={'size': 7}, bbox_to_anchor=(1.7,1.2))\n",
    "    plt.ylabel('%')\n",
    "    plt.xlabel('year')\n",
    "#     plt.title(format_title_journal(file[24:-26]))\n",
    "    plt.title(format_title_journal(file[24:-49]))\n",
    "    plt.tight_layout()\n",
    "    plt.savefig(file.replace('.xnet', '_dist_081122.pdf'))\n"
   ]
  },
  {
   "cell_type": "code",
   "execution_count": 22,
   "metadata": {},
   "outputs": [
    {
     "name": "stdout",
     "output_type": "stream",
     "text": [
      "['name', 'Cluster Index', 'Cluster Name', 'cluster name top7', 'cluster_name', 'id_label', 'journal', 'new_label', 'refs', 'title', 'wos_id', 'year']\n"
     ]
    }
   ],
   "source": [
    "for file in files:\n",
    "\n",
    "    net_ami = xn.xnet2igraph(file.replace('_011122', '_011122_voting_schema'))\n",
    "    print(net_ami.vs.attributes())\n",
    "    break"
   ]
  },
  {
   "cell_type": "code",
   "execution_count": null,
   "metadata": {},
   "outputs": [],
   "source": [
    "outer_colors"
   ]
  },
  {
   "cell_type": "code",
   "execution_count": null,
   "metadata": {},
   "outputs": [],
   "source": []
  }
 ],
 "metadata": {
  "kernelspec": {
   "display_name": "Python 3 (ipykernel)",
   "language": "python",
   "name": "python3"
  },
  "language_info": {
   "codemirror_mode": {
    "name": "ipython",
    "version": 3
   },
   "file_extension": ".py",
   "mimetype": "text/x-python",
   "name": "python",
   "nbconvert_exporter": "python",
   "pygments_lexer": "ipython3",
   "version": "3.8.3"
  }
 },
 "nbformat": 4,
 "nbformat_minor": 4
}
