{
 "cells": [
  {
   "cell_type": "code",
   "execution_count": 32,
   "metadata": {},
   "outputs": [],
   "source": [
    "import WOS\n",
    "from pathlib import Path\n",
    "from tqdm.auto import tqdm\n",
    "from multiprocessing import Pool\n",
    "import importlib\n",
    "import xnetwork as xnet\n",
    "import numpy as np\n",
    "importlib.reload(WOS)\n",
    "import igraph as ig"
   ]
  },
  {
   "cell_type": "code",
   "execution_count": 35,
   "metadata": {},
   "outputs": [],
   "source": [
    "keyword = 'chitosan'  \n",
    "g = xnet.xnet2igraph('chitosan_network_papers_citation_bardo_infomap_131222.xnet')"
   ]
  },
  {
   "cell_type": "code",
   "execution_count": 36,
   "metadata": {},
   "outputs": [],
   "source": [
    "nodes2del = g.vs.select(year_lt=2012)\n",
    "g.delete_vertices(nodes2del)"
   ]
  },
  {
   "cell_type": "code",
   "execution_count": 37,
   "metadata": {},
   "outputs": [],
   "source": [
    "xnet.igraph2xnet(g, 'chitosan_network_papers_citation_bardo_infomap_2012_2022_131222.xnet')"
   ]
  },
  {
   "cell_type": "code",
   "execution_count": 38,
   "metadata": {},
   "outputs": [],
   "source": [
    "cluster_name = g.vs['Cluster Name']\n",
    "v,c = np.unique(cluster_name, return_counts=True)"
   ]
  },
  {
   "cell_type": "code",
   "execution_count": 40,
   "metadata": {},
   "outputs": [
    {
     "name": "stdout",
     "output_type": "stream",
     "text": [
      "A - removal, adsorption, aqueous solution, ion, ii, dye, adsorbent, magnetic, metal, composite 4473\n",
      "B - chitosan nanoparticles, oral, evaluation, drug delivery, vaccine, load, vitro, delivery system, mucoadhesive, insulin 3953\n",
      "C - bone tissue engineering, porous, stem cell, chitosan scaffold, composite scaffold, bone regeneration, phosphate, hydroxyapatite, calcium, scaffol... 2194\n",
      "D - effect, quality, fruit, coating, chitosan, l, postharvest, plant, edible, storage 1617\n",
      "E - electrode, electrochemical, carbon, detection, modify, determination, biosensor base, glucose, sensor, amperometric 1524\n",
      "F - chitosan film, antimicrobial, edible, food packaging, active, incorporate, mechanical, essential oil, cellulose, extract 1818\n",
      "G - antibacterial activity, chitosan derivative, antimicrobial activity, effect, antifungal, synthesis, activity chitosan, bacteria, quaternary, ammo... 1063\n",
      "H - nanoparticles, gene delivery, sirna, dna, transfection, cell, vector, carrier, efficiency, cancer 780\n",
      "I - electrospun, nanofibers, electrospinning, nanofibrous, scaffold, nanofiber, wound, alcohol, mat, membrane 979\n",
      "J - delivery, micelle, cancer, drug, therapy, glycol chitosan, chitosan nanoparticles, polymeric, self-assembled, paclitaxel 764\n",
      "K - immobilization, lipase, immobilize, immobilized, magnetic, enzyme, chitosan bead, support, laccase, production 641\n",
      "L - wound healing, wound dressing, hydrogel, skin, application, wound heal, wound dress, evaluation, film, sponge 786\n",
      "M - release, chitosan microspheres, drug, preparation, delivery, evaluation, controlled, microparticles, formulation, bead 340\n",
      "N - rat, mouse, dietary, diet, supplementation, effect chitosan oligosaccharide, activity, broiler, molecular weight, feed 581\n",
      "O - synthesis, silver nanoparticles, gold nanoparticles, antibacterial, activity, antimicrobial, nanocomposites, nanocomposite, green, nanoparticle 735\n",
      "P - chitin chitosan, waste, deacetylation, degree, extraction, characterization, shrimp shell, physicochemical, determination, production 589\n",
      "Q - alginate, release, microcapsules, bead, delivery, alginate-chitosan, drug, chitosan-alginate, encapsulation, oral 432\n",
      "R - chitosanase, bacillus, sp, production, chitinase, enzyme, purification characterization, chitooligosaccharides, streptomyces, expression 332\n",
      "S - catalyst, synthesis, reaction, efficient, support, catalytic, heterogeneous, palladium, complex, magnetic 547\n",
      "T - flocculation, water, wastewater, removal, treatment, flocculant, flocculants, coagulant, coagulation, microalgae 505\n",
      "U - cotton fabric, chitosan, antimicrobial, antibacterial, textile, wool, dye, finishing, fiber, treatment 416\n"
     ]
    }
   ],
   "source": [
    "i = 0\n",
    "total = 0\n",
    "for a,b in zip(v,c):\n",
    "    print(a, b)\n",
    "    i+=1\n",
    "    if i > 20:\n",
    "        break\n",
    "    total += b"
   ]
  },
  {
   "cell_type": "code",
   "execution_count": 41,
   "metadata": {},
   "outputs": [
    {
     "data": {
      "text/plain": [
       "24653"
      ]
     },
     "execution_count": 41,
     "metadata": {},
     "output_type": "execute_result"
    }
   ],
   "source": [
    "total"
   ]
  },
  {
   "cell_type": "code",
   "execution_count": 42,
   "metadata": {},
   "outputs": [
    {
     "data": {
      "text/plain": [
       "48295"
      ]
     },
     "execution_count": 42,
     "metadata": {},
     "output_type": "execute_result"
    }
   ],
   "source": [
    "g.vcount()"
   ]
  },
  {
   "cell_type": "code",
   "execution_count": null,
   "metadata": {},
   "outputs": [],
   "source": []
  }
 ],
 "metadata": {
  "kernelspec": {
   "display_name": "Python 3 (ipykernel)",
   "language": "python",
   "name": "python3"
  },
  "language_info": {
   "codemirror_mode": {
    "name": "ipython",
    "version": 3
   },
   "file_extension": ".py",
   "mimetype": "text/x-python",
   "name": "python",
   "nbconvert_exporter": "python",
   "pygments_lexer": "ipython3",
   "version": "3.8.3"
  }
 },
 "nbformat": 4,
 "nbformat_minor": 4
}
