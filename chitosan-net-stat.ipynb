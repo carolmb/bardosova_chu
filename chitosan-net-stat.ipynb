{
 "cells": [
  {
   "cell_type": "code",
   "execution_count": 4,
   "metadata": {},
   "outputs": [
    {
     "data": {
      "text/plain": [
       "<module 'WOS' from '/mnt/e/Ana/bardosova_chu/WOS/WOS/__init__.py'>"
      ]
     },
     "execution_count": 4,
     "metadata": {},
     "output_type": "execute_result"
    }
   ],
   "source": [
    "import WOS\n",
    "import importlib\n",
    "import numpy as np\n",
    "import igraph as ig\n",
    "import xnetwork as xnet\n",
    "\n",
    "from pathlib import Path\n",
    "from tqdm.auto import tqdm\n",
    "from multiprocessing import Pool\n",
    "\n",
    "importlib.reload(WOS)"
   ]
  },
  {
   "cell_type": "code",
   "execution_count": null,
   "metadata": {},
   "outputs": [],
   "source": []
  },
  {
   "cell_type": "code",
   "execution_count": 5,
   "metadata": {},
   "outputs": [],
   "source": [
    "net_name = 'chitosan_network_papers_citation.xnet'"
   ]
  },
  {
   "cell_type": "code",
   "execution_count": 9,
   "metadata": {},
   "outputs": [
    {
     "data": {
      "text/plain": [
       "44696"
      ]
     },
     "execution_count": 9,
     "metadata": {},
     "output_type": "execute_result"
    }
   ],
   "source": [
    "chitosan_net = xnet.xnet2igraph(net_name)\n",
    "chitosan_net.vcount()"
   ]
  },
  {
   "cell_type": "code",
   "execution_count": 8,
   "metadata": {},
   "outputs": [
    {
     "name": "stdout",
     "output_type": "stream",
     "text": [
      "1910.0 1\n",
      "1920.0 1\n",
      "1929.0 1\n",
      "1936.0 1\n",
      "1952.0 1\n",
      "1958.0 1\n",
      "1959.0 2\n",
      "1964.0 3\n",
      "1966.0 1\n",
      "1969.0 2\n",
      "1970.0 3\n",
      "1971.0 7\n",
      "1972.0 5\n",
      "1973.0 6\n",
      "1974.0 9\n",
      "1975.0 10\n",
      "1976.0 9\n",
      "1977.0 8\n",
      "1978.0 20\n",
      "1979.0 18\n",
      "1980.0 33\n",
      "1981.0 27\n",
      "1982.0 34\n",
      "1983.0 26\n",
      "1984.0 33\n",
      "1985.0 40\n",
      "1986.0 28\n",
      "1987.0 55\n",
      "1988.0 61\n",
      "1989.0 62\n",
      "1990.0 74\n",
      "1991.0 100\n",
      "1992.0 191\n",
      "1993.0 128\n",
      "1994.0 140\n",
      "1995.0 149\n",
      "1996.0 208\n",
      "1997.0 235\n",
      "1998.0 279\n",
      "1999.0 295\n",
      "2000.0 347\n",
      "2001.0 383\n",
      "2002.0 467\n",
      "2003.0 620\n",
      "2004.0 690\n",
      "2005.0 872\n",
      "2006.0 1078\n",
      "2007.0 1186\n",
      "2008.0 1529\n",
      "2009.0 1717\n",
      "2010.0 1851\n",
      "2011.0 2078\n",
      "2012.0 2266\n",
      "2013.0 2424\n",
      "2014.0 2631\n",
      "2015.0 2855\n",
      "2016.0 3306\n",
      "2017.0 3565\n",
      "2018.0 3867\n",
      "2019.0 4112\n",
      "2020.0 4461\n",
      "2021.0 84\n"
     ]
    }
   ],
   "source": [
    "u,c = np.unique(chitosan_net.vs['year'], return_counts=True)\n",
    "for u_,c_ in zip(u, c):\n",
    "    print(u_, c_)"
   ]
  },
  {
   "cell_type": "code",
   "execution_count": null,
   "metadata": {},
   "outputs": [],
   "source": []
  }
 ],
 "metadata": {
  "kernelspec": {
   "display_name": "Python 3 (ipykernel)",
   "language": "python",
   "name": "python3"
  },
  "language_info": {
   "codemirror_mode": {
    "name": "ipython",
    "version": 3
   },
   "file_extension": ".py",
   "mimetype": "text/x-python",
   "name": "python",
   "nbconvert_exporter": "python",
   "pygments_lexer": "ipython3",
   "version": "3.8.3"
  }
 },
 "nbformat": 4,
 "nbformat_minor": 4
}
