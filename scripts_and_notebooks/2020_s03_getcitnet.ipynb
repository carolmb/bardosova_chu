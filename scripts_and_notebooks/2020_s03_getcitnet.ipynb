{
 "cells": [
  {
   "cell_type": "code",
   "execution_count": 1,
   "metadata": {},
   "outputs": [],
   "source": [
    "import json\n",
    "import pandas as pd\n",
    "import numpy as np\n",
    "import xnetwork as xnet\n",
    "from tqdm.auto import tqdm\n",
    "from collections import Counter\n",
    "from itertools import combinations\n",
    "from collections import defaultdict, namedtuple\n",
    "from multiprocessing import Pool"
   ]
  },
  {
   "cell_type": "code",
   "execution_count": 105,
   "metadata": {},
   "outputs": [
    {
     "name": "stdout",
     "output_type": "stream",
     "text": [
      "j. mat. chem. b\n",
      "j. mater. chem. a\n",
      "nat. mater.\n"
     ]
    }
   ],
   "source": [
    "import json\n",
    "import igraph as ig\n",
    "import WOSRaw as wos\n",
    "import xnetwork as xnet\n",
    "from collections import defaultdict\n",
    "\n",
    "acm_ami = 'ACS Appl. Mater. Interfaces'\n",
    "adv_f_mater = 'Adv. Funct. Mater.'\n",
    "\n",
    "valid_journals = [\n",
    "    'acs nano',\n",
    "    'adv. mater.',\n",
    "    'chem. mat.', \n",
    "    'j. am. chem. soc.', \n",
    "    'j. mat. chem. b', \n",
    "    'j. mater. chem. a', \n",
    "    'j. mater. chem. c', \n",
    "    'langmuir',\n",
    "    'macromolecules',\n",
    "    'nano lett.',\n",
    "    'nat. mater.',\n",
    "    'nat. nanotechnol.'\n",
    "]\n",
    "\n",
    "\n",
    "def get_citnet(current_journal):\n",
    "    \n",
    "    papers_by_journal = defaultdict(lambda:[])\n",
    "    names = []\n",
    "    titles = []\n",
    "    years = []\n",
    "    edges = []\n",
    "    file = open('toy_chemb_chema_natmat.txt').readlines()\n",
    "    for line in file:\n",
    "        entry = json.loads(line)\n",
    "        item_id = entry['UID']\n",
    "        item_data = {'UID': item_id, 'data': entry}\n",
    "        sourcesData = wos.utilities.getSources(item_data)\n",
    "        journal = wos.utilities.getSourceISOAbbreviation(sourcesData).lower()\n",
    "        \n",
    "        publicationInfo = wos.utilities.getPublicationInfo(item_data)\n",
    "        year = wos.utilities.getPublicationYear(publicationInfo)\n",
    "        year = int(year)\n",
    "        \n",
    "        if journal != current_journal:\n",
    "            continue\n",
    "        if year > 2020:\n",
    "            continue\n",
    "            \n",
    "        title = wos.utilities.getTitle(item_data)\n",
    "        names.append(item_id)\n",
    "        titles.append(title)\n",
    "        years.append(int(year))\n",
    "        \n",
    "            \n",
    "        referencesData = wos.utilities.getReferences(item_data)\n",
    "        ref_uids = wos.utilities.getReferencesUIDs(referencesData)\n",
    "        for current_uid in ref_uids:\n",
    "            edges.append((item_id, current_uid))\n",
    "        \n",
    "    valid_edges = []\n",
    "    names_set = set(names)\n",
    "    for edge in edges:\n",
    "        if edge[0] in  names_set and edge[1] in names_set:\n",
    "            valid_edges.append(edge)\n",
    "    \n",
    "    \n",
    "    g = ig.Graph(directed=True)\n",
    "    g.add_vertices(len(names))\n",
    "    g.vs['name'] = names\n",
    "    g.vs['title'] = titles\n",
    "    g.vs['year'] = years\n",
    "    g.add_edges(valid_edges)\n",
    "    return g\n",
    "\n",
    "for journal in valid_journals:\n",
    "    print(journal)\n",
    "    g = get_citnet(journal)\n",
    "    xnet.igraph2xnet(g, '%s_completedata_170423_allbut.xnet' % journal)"
   ]
  }
 ],
 "metadata": {
  "kernelspec": {
   "display_name": "Python 3 (ipykernel)",
   "language": "python",
   "name": "python3"
  },
  "language_info": {
   "codemirror_mode": {
    "name": "ipython",
    "version": 3
   },
   "file_extension": ".py",
   "mimetype": "text/x-python",
   "name": "python",
   "nbconvert_exporter": "python",
   "pygments_lexer": "ipython3",
   "version": "3.8.3"
  }
 },
 "nbformat": 4,
 "nbformat_minor": 4
}
