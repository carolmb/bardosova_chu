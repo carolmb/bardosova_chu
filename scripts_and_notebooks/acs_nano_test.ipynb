{
 "cells": [
  {
   "cell_type": "code",
   "execution_count": 1,
   "metadata": {},
   "outputs": [],
   "source": [
    "path = '../results/review2/nets180423/'"
   ]
  },
  {
   "cell_type": "code",
   "execution_count": 2,
   "metadata": {},
   "outputs": [],
   "source": [
    "file = 'acs nano_completedata_170423_allbut_bardo_infomap_180423.xnet'"
   ]
  },
  {
   "cell_type": "code",
   "execution_count": 3,
   "metadata": {},
   "outputs": [],
   "source": [
    "import xnetwork as xnet"
   ]
  },
  {
   "cell_type": "code",
   "execution_count": 4,
   "metadata": {},
   "outputs": [],
   "source": [
    "net = xnet.xnet2igraph(path + file)"
   ]
  },
  {
   "cell_type": "code",
   "execution_count": 5,
   "metadata": {},
   "outputs": [
    {
     "data": {
      "text/plain": [
       "{'A - graphene, carbon nanotube, battery, transistor, mos2, high-performance, anode, electrode, flexible, oxide',\n",
       " 'B - nanoparticles, cancer, therapy, delivery, cell, tumor, imaging, vivo, drug, nanoparticle',\n",
       " 'C - plasmonic, gold, plasmon, optical, surface-enhanced raman, resonance, array, nanorods, nanostructures, silver',\n",
       " 'D - nanocrystals, perovskite, solar cell, nanocrystal, cdse, halide, lead, colloidal quantum dot, pb, semiconductor',\n",
       " 'E - surface, molecule, molecular, on-surface, force, graphene nanoribbons, supramolecular, single, atomic, state',\n",
       " 'F - block copolymer, self-assembly, polymer, nanostructures, morphology, pattern, lithography, copolymer thin film, solar cell, directed',\n",
       " 'G - dna, nanopore, detection, protein, single, solid-state nanopores, translocation, ion, ionic, membrane',\n",
       " 'H - nanoscience nanotechnology, science, nanomaterials, conversation prof, ac nano, dr, world, prize, fuel cell, advance',\n",
       " 'I - nanoscale, force microscopy, probe, transmission electron microscopy, situ, nanowires, scanning, atomic force, liquid, silicon',\n",
       " 'J - surface, droplet, superhydrophobic, condensation, hierarchical, liquid, coating, water, bioinspired, membrane',\n",
       " 'K - dna origami, assembly, single-molecule, dna nanostructures, hybridization, structure, dynamic, molecular, wireframe, dna nanotube',\n",
       " 'L - assembly, self-assembly, colloidal, interface, particle, nanoparticle, gold nanoparticles, via, liquid crystal, array',\n",
       " 'M - self-assembly, supramolecular, peptide, fibril, amyloid, force, protein, control, crystal, dipeptide',\n",
       " 'N - chiral, chirality, spin, plasmonic, circularly polarized, optical, gold nanoparticles, polarized luminescence, photothermal, polymer',\n",
       " 'O - conductance, tunneling, molecular junction, electron, charge transport, bacterial, spectroscopy, single, single-molecule junction, molecule',\n",
       " 'P - cluster, au-25, gold nanoclusters, nanocluster, fluorescent, silver, ligand, synthesis, au-38, sr',\n",
       " 'Q - nanowires, silicon, nanomembranes, array, nanowire, growth, si, grown, three-dimensional, wurtzite',\n",
       " 'R - protein, vault, capsid, assembly, virus, nanoparticles, particle, virus-like, peptide, delivery',\n",
       " 'S - hybrid, array, heterojunction solar cell, si, efficiency, silicon, metal-assisted chemical etching, omnidirectional, efficient, light',\n",
       " 'T - detection, digital, single, droplet, virus, interferometric, label-free, motion, real-time, protein',\n",
       " 'U - sars-cov-2, filtration efficiency, cloth mask, common fabric, covid-19, detection, fabric respiratory, aerosol filtration, respiratory cloth, eff...'}"
      ]
     },
     "execution_count": 5,
     "metadata": {},
     "output_type": "execute_result"
    }
   ],
   "source": [
    "set(net.vs['Cluster Name'])"
   ]
  },
  {
   "cell_type": "code",
   "execution_count": 6,
   "metadata": {},
   "outputs": [
    {
     "data": {
      "text/plain": [
       "['name', 'Cluster Index', 'Cluster Name', 'title', 'wos_id', 'year']"
      ]
     },
     "execution_count": 6,
     "metadata": {},
     "output_type": "execute_result"
    }
   ],
   "source": [
    "net.vs.attributes()"
   ]
  },
  {
   "cell_type": "code",
   "execution_count": 8,
   "metadata": {},
   "outputs": [],
   "source": [
    "h = 'H - nanoscience nanotechnology, science, nanomaterials, conversation prof, ac nano, dr, world, prize, fuel cell, advance'"
   ]
  },
  {
   "cell_type": "code",
   "execution_count": 10,
   "metadata": {},
   "outputs": [
    {
     "name": "stdout",
     "output_type": "stream",
     "text": [
      "249\n"
     ]
    }
   ],
   "source": [
    "c = 0\n",
    "for vtx in net.vs:\n",
    "    if vtx['Cluster Name'] == h:\n",
    "        c += 1\n",
    "print(c)"
   ]
  },
  {
   "cell_type": "code",
   "execution_count": null,
   "metadata": {},
   "outputs": [],
   "source": []
  },
  {
   "cell_type": "code",
   "execution_count": null,
   "metadata": {},
   "outputs": [],
   "source": []
  }
 ],
 "metadata": {
  "kernelspec": {
   "display_name": "Python 3 (ipykernel)",
   "language": "python",
   "name": "python3"
  },
  "language_info": {
   "codemirror_mode": {
    "name": "ipython",
    "version": 3
   },
   "file_extension": ".py",
   "mimetype": "text/x-python",
   "name": "python",
   "nbconvert_exporter": "python",
   "pygments_lexer": "ipython3",
   "version": "3.8.3"
  }
 },
 "nbformat": 4,
 "nbformat_minor": 4
}
