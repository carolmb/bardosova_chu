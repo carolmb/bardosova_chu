{
 "cells": [
  {
   "cell_type": "code",
   "execution_count": 9,
   "metadata": {},
   "outputs": [],
   "source": [
    "import glob\n",
    "import igraph as ig\n",
    "import numpy as np\n",
    "import xnetwork as xn\n",
    "import matplotlib.pyplot as plt\n",
    "\n",
    "from matplotlib.ticker import MaxNLocator"
   ]
  },
  {
   "cell_type": "code",
   "execution_count": 42,
   "metadata": {},
   "outputs": [
    {
     "name": "stdout",
     "output_type": "stream",
     "text": [
      "['subset_chu/citation_net_acs appl. mater. interfaces_voting_schema_261022.xnet', 'subset_chu/citation_net_acs nano_voting_schema_261022.xnet', 'subset_chu/citation_net_adv. funct. mater._voting_schema_261022.xnet', 'subset_chu/citation_net_adv. mater._voting_schema_261022.xnet', 'subset_chu/citation_net_chem. mat._voting_schema_261022.xnet', 'subset_chu/citation_net_j. am. chem. soc._voting_schema_261022.xnet', 'subset_chu/citation_net_j. mat. chem. b_voting_schema_261022.xnet', 'subset_chu/citation_net_j. mater. chem. a_voting_schema_261022.xnet', 'subset_chu/citation_net_j. mater. chem. c_voting_schema_261022.xnet', 'subset_chu/citation_net_j. mater. chem._voting_schema_261022.xnet', 'subset_chu/citation_net_langmuir_voting_schema_261022.xnet', 'subset_chu/citation_net_macromolecules_voting_schema_261022.xnet', 'subset_chu/citation_net_nano lett._voting_schema_261022.xnet', 'subset_chu/citation_net_nat. mater._voting_schema_261022.xnet', 'subset_chu/citation_net_nat. nanotechnol._voting_schema_261022.xnet']\n"
     ]
    }
   ],
   "source": [
    "files = glob.glob('subset_chu/citation_net_*_voting_schema_261022.xnet')\n",
    "print(files) # verificar quais foram as redes enviadas paara o filipi"
   ]
  },
  {
   "cell_type": "code",
   "execution_count": 10,
   "metadata": {},
   "outputs": [],
   "source": [
    "def format_title_journal(name1):\n",
    "    print(name1)\n",
    "    name = name1.title()\n",
    "    name = name.replace('Mater', 'Mat')\n",
    "    name = name.replace('Acs', 'ACS')\n",
    "    name = name.replace('Appl. Mat. Interfaces', 'AMI')\n",
    "    return name"
   ]
  },
  {
   "cell_type": "code",
   "execution_count": 14,
   "metadata": {},
   "outputs": [
    {
     "name": "stdout",
     "output_type": "stream",
     "text": [
      "['nets180423/acs nano_completedata_170423_allbut_bardo_infomap_180423.xnet', 'nets180423/adv. mater._completedata_170423_allbut_bardo_infomap_180423.xnet', 'nets180423/chem. mat._completedata_170423_allbut_bardo_infomap_180423.xnet', 'nets180423/j. am. chem. soc._completedata_170423_allbut_bardo_infomap_180423.xnet', 'nets180423/j. mat. chem. b_completedata_170423_allbut_bardo_infomap_180423.xnet', 'nets180423/j. mater. chem. a_completedata_170423_allbut_bardo_infomap_180423.xnet', 'nets180423/j. mater. chem. c_completedata_170423_allbut_bardo_infomap_180423.xnet', 'nets180423/langmuir_completedata_170423_allbut_bardo_infomap_180423.xnet', 'nets180423/macromolecules_completedata_170423_allbut_bardo_infomap_180423.xnet', 'nets180423/nano lett._completedata_170423_allbut_bardo_infomap_180423.xnet', 'nets180423/nat. mater._completedata_170423_allbut_bardo_infomap_180423.xnet', 'nets180423/nat. nanotechnol._completedata_170423_allbut_bardo_infomap_180423.xnet']\n"
     ]
    }
   ],
   "source": [
    "from collections import defaultdict\n",
    "\n",
    "def get_k_most_close(net, v, valid):\n",
    "    temp = []\n",
    "    cutoff = 5\n",
    "    paths = net.get_all_simple_paths(v, to=None, cutoff=cutoff)\n",
    "    for n in paths:\n",
    "        idx = n[-1]\n",
    "        temp_label = net.vs[idx]['cluster_name']\n",
    "        if temp_label in valid:\n",
    "            temp.append(temp_label)\n",
    "        \n",
    "    return temp\n",
    "\n",
    "\n",
    "def voting_schema_all_years(label, years, net_ami, valid):\n",
    "    net_ami.vs['cluster_name'] = net_ami.vs['Cluster Name']\n",
    "    net_ami.vs['id_label'] = np.arange(net_ami.vcount())\n",
    "    new_labels = []\n",
    "\n",
    "    verteces = net_ami.vs.select(cluster_name_eq=label)\n",
    "    map_new_label = dict()\n",
    "    for v in verteces:\n",
    "        temp = get_k_most_close(net_ami, v, valid)        \n",
    "        unique, count = np.unique(temp, return_counts=True)\n",
    "        if len(count) > 0:\n",
    "            idx = np.argmax(count)\n",
    "            map_new_label[v['id_label']] = unique[idx]\n",
    "        else:\n",
    "            map_new_label[v['id_label']]= \"Others\"\n",
    "\n",
    "    for k,v in map_new_label.items():\n",
    "        net_ami.vs[k]['new_label'] = v\n",
    "        \n",
    "\n",
    "files = glob.glob('nets180423/*_infomap_*.xnet')\n",
    "print(files)\n",
    "\n",
    "for file in files:\n",
    "    net_ami = xn.xnet2igraph(file)\n",
    "\n",
    "    years = sorted(np.unique(net_ami.vs['year']))\n",
    "    comms_size = defaultdict(lambda:[])\n",
    "\n",
    "    \n",
    "    name_unique = set(net_ami.vs['Cluster Name'])\n",
    "\n",
    "    X = []\n",
    "    for year in sorted(years):\n",
    "        X.append(year)\n",
    "        vertex_seq = net_ami.vs.select(year_eq=year)\n",
    "        N = len(vertex_seq)\n",
    "        subg  = net_ami.subgraph(vertex_seq)\n",
    "        subg.to_undirected()\n",
    "        subg = subg.components().giant()\n",
    "\n",
    "        unique,count = np.unique(subg.vs['Cluster Name'], return_counts=True)\n",
    "        for u,c in zip(unique, count):\n",
    "            comms_size[u].append(100*c/N)\n",
    "\n",
    "        for missing in name_unique - set(unique):\n",
    "            comms_size[missing].append(0)\n",
    "\n",
    "    net_ami.vs['new_label'] =  net_ami.vs['Cluster Name']\n",
    "    comms_size_sorted = dict(sorted(comms_size.items(), key = lambda x: x[0]))\n",
    "    valid = []\n",
    "    count_l = 0\n",
    "    for label, hist in comms_size_sorted.items():\n",
    "        count_l += 1\n",
    "        if count_l > 9:\n",
    "            voting_schema_all_years(label, years, net_ami, valid)\n",
    "        else:\n",
    "            valid.append(label)\n",
    "    \n",
    "    net_ami.vs['cluster_top10'] = net_ami.vs['new_label']\n",
    "    del net_ami.vs['new_label']\n",
    "    xn.igraph2xnet(net_ami, file.replace('.xnet', '_voting_schema_top10.xnet'))\n"
   ]
  },
  {
   "cell_type": "code",
   "execution_count": null,
   "metadata": {},
   "outputs": [],
   "source": []
  }
 ],
 "metadata": {
  "kernelspec": {
   "display_name": "Python 3 (ipykernel)",
   "language": "python",
   "name": "python3"
  },
  "language_info": {
   "codemirror_mode": {
    "name": "ipython",
    "version": 3
   },
   "file_extension": ".py",
   "mimetype": "text/x-python",
   "name": "python",
   "nbconvert_exporter": "python",
   "pygments_lexer": "ipython3",
   "version": "3.8.3"
  }
 },
 "nbformat": 4,
 "nbformat_minor": 4
}
